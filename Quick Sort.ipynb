{
 "cells": [
  {
   "cell_type": "markdown",
   "metadata": {},
   "source": [
    "# Quick Sort\n",
    "\n",
    "## Implementation"
   ]
  },
  {
   "cell_type": "code",
   "execution_count": 21,
   "metadata": {},
   "outputs": [],
   "source": [
    "def partition(arr,low,high): \n",
    "    # arr: list[int/float]\n",
    "    # low, high: int > 0 and < len(arr)\n",
    "    # rtype: int, new index of the pivot\n",
    "    \n",
    "    # Takes last element as pivot, places \n",
    "    # the pivot element at its correct position in sorted \n",
    "    # array, and places all smaller (smaller than pivot) \n",
    "    # to left of pivot and all greater elements to right \n",
    "    # of pivot \n",
    "\ti, pivot = low, arr[high]\n",
    "\tfor j in range(low , high): \n",
    "\t\t# Move the smaller numbers to the left of the pivot index by swapping\n",
    "\t\tif arr[j] <= pivot:\n",
    "\t\t\tarr[i],arr[j] = arr[j],arr[i] \n",
    "\t\t\ti += 1 # Update the pivot index\n",
    "\tarr[i],arr[high] = arr[high],arr[i] \n",
    "\treturn i\n",
    "\n",
    "# The main function that implements QuickSort \n",
    "# arr[] --> Array to be sorted, \n",
    "# low --> Starting index, \n",
    "# high --> Ending index \n",
    "\n",
    "# Quick sort in place\n",
    "def quickSort(arr,low,high): \n",
    "\tif low < high: \n",
    "\n",
    "\t\t# pi is partitioning index, arr[p] is now \n",
    "\t\t# at right place \n",
    "\t\tpi = partition(arr,low,high) \n",
    "\n",
    "\t\t# Separately sort elements before \n",
    "\t\t# partition and after partition \n",
    "\t\tquickSort(arr, low, pi-1) \n",
    "\t\tquickSort(arr, pi+1, high)"
   ]
  },
  {
   "cell_type": "code",
   "execution_count": 26,
   "metadata": {},
   "outputs": [
    {
     "data": {
      "text/plain": [
       "[1, 5, 7, 8, 9, 10]"
      ]
     },
     "execution_count": 26,
     "metadata": {},
     "output_type": "execute_result"
    }
   ],
   "source": [
    "arr = [10, 7, 8, 9, 1, 5] \n",
    "n = len(arr) \n",
    "quickSort(arr,0,n-1)\n",
    "arr"
   ]
  },
  {
   "cell_type": "code",
   "execution_count": 23,
   "metadata": {},
   "outputs": [
    {
     "name": "stdout",
     "output_type": "stream",
     "text": [
      "6.39 µs ± 73.4 ns per loop (mean ± std. dev. of 7 runs, 100000 loops each)\n"
     ]
    }
   ],
   "source": [
    "%%timeit\n",
    "quickSort(arr,0,n-1) "
   ]
  },
  {
   "cell_type": "code",
   "execution_count": 15,
   "metadata": {},
   "outputs": [
    {
     "name": "stdout",
     "output_type": "stream",
     "text": [
      "231 ns ± 1.41 ns per loop (mean ± std. dev. of 7 runs, 1000000 loops each)\n"
     ]
    }
   ],
   "source": [
    "%%timeit\n",
    "sorted(arr)"
   ]
  },
  {
   "cell_type": "code",
   "execution_count": 10,
   "metadata": {},
   "outputs": [
    {
     "data": {
      "text/plain": [
       "6"
      ]
     },
     "execution_count": 10,
     "metadata": {},
     "output_type": "execute_result"
    }
   ],
   "source": [
    "75%23"
   ]
  }
 ],
 "metadata": {
  "kernelspec": {
   "display_name": "Python 3",
   "language": "python",
   "name": "python3"
  },
  "language_info": {
   "codemirror_mode": {
    "name": "ipython",
    "version": 3
   },
   "file_extension": ".py",
   "mimetype": "text/x-python",
   "name": "python",
   "nbconvert_exporter": "python",
   "pygments_lexer": "ipython3",
   "version": "3.7.0"
  }
 },
 "nbformat": 4,
 "nbformat_minor": 2
}
