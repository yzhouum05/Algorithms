{
 "cells": [
  {
   "cell_type": "markdown",
   "metadata": {},
   "source": [
    "# Greatest Common Divisor\n",
    "\n",
    "Two algorithms are developed and evaluated with the built-in 'math.gcd' function. "
   ]
  },
  {
   "cell_type": "code",
   "execution_count": 1,
   "metadata": {},
   "outputs": [],
   "source": [
    "# Recursive\n",
    "def gcd_1(x, y):\n",
    "    # x, y: int, >= 0\n",
    "    # rtype: int\n",
    "    return y if x == 0 else gcd_1(y % x, x)"
   ]
  },
  {
   "cell_type": "code",
   "execution_count": 2,
   "metadata": {},
   "outputs": [],
   "source": [
    "# Iterative\n",
    "def gcd_2(x, y):\n",
    "    while x:\n",
    "        x, y = y % x, x\n",
    "    return y"
   ]
  },
  {
   "cell_type": "code",
   "execution_count": 3,
   "metadata": {},
   "outputs": [],
   "source": [
    "from math import gcd"
   ]
  },
  {
   "cell_type": "code",
   "execution_count": 4,
   "metadata": {},
   "outputs": [
    {
     "name": "stdout",
     "output_type": "stream",
     "text": [
      "GCD's of 60 and 48 computed by the functions are [12, 12, 12]\n",
      "GCD's of 27 and 108 computed by the functions are [27, 27, 27]\n",
      "GCD's of 0 and 0 computed by the functions are [0, 0, 0]\n",
      "GCD's of 0 and 35 computed by the functions are [35, 35, 35]\n"
     ]
    }
   ],
   "source": [
    "# test data\n",
    "aa = [60, 27, 0, 0 ]\n",
    "bb = [48, 108, 0, 35 ]\n",
    "func = [gcd, gcd_1, gcd_2]\n",
    "for a, b in zip(aa, bb):\n",
    "    print('GCD\\'s of', a, 'and', b, 'computed by the functions are', list(map(lambda x: x(a,b), func)))"
   ]
  }
 ],
 "metadata": {
  "kernelspec": {
   "display_name": "Python 3",
   "language": "python",
   "name": "python3"
  },
  "language_info": {
   "codemirror_mode": {
    "name": "ipython",
    "version": 3
   },
   "file_extension": ".py",
   "mimetype": "text/x-python",
   "name": "python",
   "nbconvert_exporter": "python",
   "pygments_lexer": "ipython3",
   "version": "3.6.6"
  }
 },
 "nbformat": 4,
 "nbformat_minor": 2
}
