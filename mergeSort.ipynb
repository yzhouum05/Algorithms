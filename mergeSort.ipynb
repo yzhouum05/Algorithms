{
 "cells": [
  {
   "cell_type": "markdown",
   "metadata": {},
   "source": [
    "# Merge Sort\n",
    "\n",
    "## Implementation"
   ]
  },
  {
   "cell_type": "code",
   "execution_count": 1,
   "metadata": {},
   "outputs": [],
   "source": [
    "# Merge Sort, ascending order\n",
    "\n",
    "\n",
    "def mergeSort(array):\n",
    "    # array dtype: list[int]\n",
    "    # rtype: list[int]\n",
    "    # Top-down: Break down the array into subarrays of equal length recursively \n",
    "    # until each only consists of 1 element\n",
    "    # Bottom-up: Sort subarrays and assemble them recursively\n",
    "    \n",
    "    # Simple case: Only 0 or 1 element\n",
    "    if len(array) <= 1:\n",
    "        return array\n",
    "    # General: Split into two subarrays a, b\n",
    "    a, b = array[:len(array)//2], array[len(array)//2:]\n",
    "    a = mergeSort(a) # sort a\n",
    "    b = mergeSort(b) # sort b\n",
    "    return merge(a, b)\n",
    "\n",
    "\n",
    "def merge(a, b):\n",
    "    # a, b dtype: list[int]\n",
    "    # rtype: list[int]\n",
    "    # Merge two sorted lists by comparing each element of a, b\n",
    "    \n",
    "    # c, k, n: sorted array, its current and final length\n",
    "    # i, j: pointers for a, b\n",
    "    c, i, j, n = [], 0, 0, len(a) + len(b)\n",
    "    for k in range(n):\n",
    "        if i == len(a) or j == len(b):\n",
    "            break\n",
    "        if a[i] <= b[j]:\n",
    "            c.append(a[i])\n",
    "            i += 1\n",
    "        else:\n",
    "            c.append(b[j])\n",
    "            j += 1\n",
    "    if k < n:\n",
    "        if i == len(a):\n",
    "            c.extend(b[j:])\n",
    "        if j == len(b):\n",
    "            c.extend(a[i:])\n",
    "    return c"
   ]
  },
  {
   "cell_type": "code",
   "execution_count": 2,
   "metadata": {},
   "outputs": [
    {
     "name": "stdout",
     "output_type": "stream",
     "text": [
      "[10, 9, 8, 7, 6, 5, 4, 3, 2, 1]\n",
      "[1, 2, 3, 4, 5, 6, 7, 8, 9, 10]\n"
     ]
    }
   ],
   "source": [
    "arr = list(range(10,0,-1))\n",
    "print(arr)\n",
    "print(mergeSort(arr))"
   ]
  },
  {
   "cell_type": "markdown",
   "metadata": {},
   "source": [
    "## Running Time Analysis\n",
    "\n",
    "**Lemma**: The running time of 'merge' on an array of $n$ numbers is $\\leq 4n+2\\leq6n$, since $n\\geq1$.<br/>\n",
    "**Claim**: Merge Sort requires $\\leq 6n\\log_2n+6n$ operations to sort $n$ numbers.<br/>\n",
    "**Proof**: \n",
    "- There are ceil$(\\log_2n+1)$ levels in the recursion binary tree. \n",
    "- At each level $j=0,1,2,\\cdots,\\log_2n$, there are $2^j$ subproblems, each of size $\\dfrac{n}{2^j}$.\n",
    "- (Total number of operations at level $j) \\leq2^j\\cdot6\\dfrac{n}{2^j}=6n$, independent of $j$.\n",
    "- In total, $\\leq6n(\\log_2n+1)$\n",
    "\n",
    "**Observations**:\n",
    "$f(n)=\\log_2n$ will be increasingly flat as $n\\rightarrow\\infty$"
   ]
  },
  {
   "cell_type": "code",
   "execution_count": 3,
   "metadata": {},
   "outputs": [
    {
     "name": "stdout",
     "output_type": "stream",
     "text": [
      "5 levels for an array of 10 numbers.\n"
     ]
    }
   ],
   "source": [
    "from math import log2, ceil\n",
    "print(ceil(log2(10)+1), 'levels for an array of 10 numbers.')"
   ]
  }
 ],
 "metadata": {
  "kernelspec": {
   "display_name": "Python 3",
   "language": "python",
   "name": "python3"
  },
  "language_info": {
   "codemirror_mode": {
    "name": "ipython",
    "version": 3
   },
   "file_extension": ".py",
   "mimetype": "text/x-python",
   "name": "python",
   "nbconvert_exporter": "python",
   "pygments_lexer": "ipython3",
   "version": "3.6.6"
  }
 },
 "nbformat": 4,
 "nbformat_minor": 2
}
